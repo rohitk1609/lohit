{
  "nbformat": 4,
  "nbformat_minor": 0,
  "metadata": {
    "kernelspec": {
      "display_name": "Python 3",
      "language": "python",
      "name": "python3"
    },
    "language_info": {
      "codemirror_mode": {
        "name": "ipython",
        "version": 3
      },
      "file_extension": ".py",
      "mimetype": "text/x-python",
      "name": "python",
      "nbconvert_exporter": "python",
      "pygments_lexer": "ipython3",
      "version": "3.6.9"
    },
    "colab": {
      "name": "Rohit Kumar - lab_1.ipynb",
      "provenance": [],
      "collapsed_sections": []
    }
  },
  "cells": [
    {
      "cell_type": "code",
      "metadata": {
        "id": "ufCBrnajdzD3",
        "colab_type": "code",
        "colab": {}
      },
      "source": [
        "import os \n",
        "os.environ[\"CUDA_VISIBLE_DEVICES\"]=\"0\""
      ],
      "execution_count": 0,
      "outputs": []
    },
    {
      "cell_type": "code",
      "metadata": {
        "id": "GAU2pwZKeFP-",
        "colab_type": "code",
        "outputId": "5a09d6bf-cdd9-482d-e010-bbc587b7af23",
        "colab": {
          "base_uri": "https://localhost:8080/",
          "height": 142
        }
      },
      "source": [
        "from google.colab import drive\n",
        "drive.mount('/gdrive')\n",
        "%cd /gdrive"
      ],
      "execution_count": 4,
      "outputs": [
        {
          "output_type": "stream",
          "text": [
            "Go to this URL in a browser: https://accounts.google.com/o/oauth2/auth?client_id=947318989803-6bn6qk8qdgf4n4g3pfee6491hc0brc4i.apps.googleusercontent.com&redirect_uri=urn%3aietf%3awg%3aoauth%3a2.0%3aoob&response_type=code&scope=email%20https%3a%2f%2fwww.googleapis.com%2fauth%2fdocs.test%20https%3a%2f%2fwww.googleapis.com%2fauth%2fdrive%20https%3a%2f%2fwww.googleapis.com%2fauth%2fdrive.photos.readonly%20https%3a%2f%2fwww.googleapis.com%2fauth%2fpeopleapi.readonly\n",
            "\n",
            "Enter your authorization code:\n",
            "··········\n",
            "Mounted at /gdrive\n",
            "/gdrive\n"
          ],
          "name": "stdout"
        }
      ]
    },
    {
      "cell_type": "code",
      "metadata": {
        "id": "AkplogtEfKnL",
        "colab_type": "code",
        "outputId": "c9b6addf-ce52-46c3-9922-5647a1849bdb",
        "colab": {
          "base_uri": "https://localhost:8080/",
          "height": 34
        }
      },
      "source": [
        "cd .."
      ],
      "execution_count": 5,
      "outputs": [
        {
          "output_type": "stream",
          "text": [
            "/\n"
          ],
          "name": "stdout"
        }
      ]
    },
    {
      "cell_type": "code",
      "metadata": {
        "id": "qoPt_Q_te3p2",
        "colab_type": "code",
        "outputId": "1161ba1d-8f34-4165-b459-b9db25c899bb",
        "colab": {
          "base_uri": "https://localhost:8080/",
          "height": 34
        }
      },
      "source": [
        "cd gdrive/My Drive"
      ],
      "execution_count": 6,
      "outputs": [
        {
          "output_type": "stream",
          "text": [
            "/gdrive/My Drive\n"
          ],
          "name": "stdout"
        }
      ]
    },
    {
      "cell_type": "code",
      "metadata": {
        "id": "QfpheJqZfjAr",
        "colab_type": "code",
        "outputId": "18be53d7-1ec3-4166-dd55-f3231adabcef",
        "colab": {
          "base_uri": "https://localhost:8080/",
          "height": 34
        }
      },
      "source": [
        "!unzip -d dataset amazon-fine-foody-reviews.zip"
      ],
      "execution_count": 7,
      "outputs": [
        {
          "output_type": "stream",
          "text": [
            "unzip:  cannot find or open amazon-fine-foody-reviews.zip, amazon-fine-foody-reviews.zip.zip or amazon-fine-foody-reviews.zip.ZIP.\n"
          ],
          "name": "stdout"
        }
      ]
    },
    {
      "cell_type": "markdown",
      "metadata": {
        "id": "oSUTBEthdzEE",
        "colab_type": "text"
      },
      "source": [
        "#                                               Lab 1 - Weightage - 3%\n",
        "\n",
        "##  Decision Trees and Random Forests\n",
        "\n"
      ]
    },
    {
      "cell_type": "markdown",
      "metadata": {
        "id": "691wOHNSdzEH",
        "colab_type": "text"
      },
      "source": [
        "### Dataset used : Amazon Fine food reviews.\n",
        "### Maximum points in lab : 75 pts.\n",
        "#### Important points to remember :\n",
        " 1. Observations for the experiments done should be explained.\n",
        " 2. All the code should be submitted in form of single Jupyter notebook itself.\n",
        " 3. Points for each sub-section are mentioned in appropriate question.\n",
        " 4. Make sure to begin early since few experiments may consume more time to run.\n",
        " 5. You can use Google colab to run in jupyter notebook (https://colab.research.google.com/) How to load data in Google Colab ?(https://towardsdatascience.com/3-ways-to-load-csv-files-into-colab-7c14fcbdcb92)\n",
        " 6. The lab must be submitted on Google classroom. The code as well as the accompanying observations should be made part of the python notebook.\n",
        " 7. __The lab is due on Feb 7th 11.59pm.__\n",
        " 8. __The lab should be completed individually. Students are expected to follow the honor code of the class.__"
      ]
    },
    {
      "cell_type": "markdown",
      "metadata": {
        "id": "cLdAz869dzEM",
        "colab_type": "text"
      },
      "source": [
        "### 1. Go through [scikit learn DecisionTree documentation] : https://scikitlearn.org/stable/modules/generated/sklearn.tree.DecisionTreeClassifier.html#sklearn.tree.DecisionTreeClassifier\n",
        "### Explain briefly various options available in corresponding DecisionTree classifier in scikit-learn package. [5 pts]\n",
        "\n",
        "\n"
      ]
    },
    {
      "cell_type": "markdown",
      "metadata": {
        "id": "2iLFNVGTdzEQ",
        "colab_type": "text"
      },
      "source": [
        "# Add your description of the function here."
      ]
    },
    {
      "cell_type": "markdown",
      "metadata": {
        "id": "fXub9fBSdzES",
        "colab_type": "text"
      },
      "source": [
        "The Amazon Fine Food Reviews dataset consists of reviews of fine foods from Amazon.<br>\n",
        "\n",
        "Number of reviews: 568,454<br>\n",
        "Number of users: 256,059<br>\n",
        "Number of products: 74,258<br>\n",
        "Timespan: Oct 1999 - Oct 2012<br>\n",
        "Number of Attributes/Columns in data: 10 \n",
        "\n",
        "Attribute Information:\n",
        "\n",
        "1. Id\n",
        "2. ProductId - unique identifier for the product\n",
        "3. UserId - unqiue identifier for the user\n",
        "4. ProfileName\n",
        "5. HelpfulnessNumerator - number of users who found the review helpful\n",
        "6. HelpfulnessDenominator - number of users who indicated whether they found the review helpful or not\n",
        "7. Score - rating between 1 and 5 \n",
        "8. Time - timestamp for the review\n",
        "9. Summary - brief summary of the review\n",
        "10. Text - text of the review\n",
        "\n",
        "Out of above attributes we will consider <strong>Score as Y or Output variable</strong>, and  <strong>Summary as X or data points.</strong>\n",
        "\n"
      ]
    },
    {
      "cell_type": "markdown",
      "metadata": {
        "id": "gP3ZJ4eRdzEU",
        "colab_type": "text"
      },
      "source": [
        "### Import Libraries"
      ]
    },
    {
      "cell_type": "code",
      "metadata": {
        "id": "225qiy3adzEW",
        "colab_type": "code",
        "colab": {}
      },
      "source": [
        "%matplotlib inline\n",
        "import numpy as np\n",
        "import pandas as pd\n",
        "from sklearn.metrics import accuracy_score\n",
        "from IPython.display import HTML\n",
        "import matplotlib.pyplot as plt\n",
        "from sklearn import model_selection\n",
        "import pickle\n",
        "import sqlite3\n",
        "import nltk\n",
        "from nltk.corpus import stopwords\n",
        "import string\n",
        "from sklearn.feature_extraction.text import CountVectorizer\n",
        "from sklearn import metrics\n",
        "from sklearn.model_selection import train_test_split\n",
        "from nltk.stem.porter import PorterStemmer\n",
        "from nltk.corpus import stopwords"
      ],
      "execution_count": 0,
      "outputs": []
    },
    {
      "cell_type": "markdown",
      "metadata": {
        "id": "j0yh4zJ2dzEi",
        "colab_type": "text"
      },
      "source": [
        "### 2.  Dataset loading, train test split, print two data points after converting score column into positive, negative class - [5 pts]\n",
        "#### steps :\n",
        " Use score column as the output variable and Summary as the input variable\n",
        " 1. Convert score column as score > 3 - positive class and score <=3 as negative class.\n",
        " 2. Now define train test split as 0.25."
      ]
    },
    {
      "cell_type": "code",
      "metadata": {
        "scrolled": true,
        "id": "py5CAlVqdzEk",
        "colab_type": "code",
        "outputId": "198bd6fc-a7c1-40ec-af5e-03e526847e73",
        "colab": {
          "base_uri": "https://localhost:8080/",
          "height": 122
        }
      },
      "source": [
        "# connecting to the dataset server to download the amazon fine foods dataset. Do not make any changes to the code below\n",
        "con = sqlite3.connect('dataset/database.sqlite')\n",
        "messages = pd.read_sql_query(\"\"\"\n",
        "SELECT Score, Summary\n",
        "FROM Reviews\n",
        "\"\"\", con)\n",
        "\n",
        "# the parition function applied threshold on the rating to label a review as 'positive' or 'negative'.\n",
        "def partition(x):\n",
        "  if x>3:\n",
        "    return 1\n",
        "  else:\n",
        "    return 0\n",
        "   # insert your code here\n",
        "\n",
        "Score = messages['Score']\n",
        "Score = Score.map(partition)\n",
        "Summary = messages['Summary']\n",
        "\n",
        "# call the function to create the train and test splits according to the ratio 75:25\n",
        "# uncomment and complete the line below\n",
        "\n",
        "train_X, test_X, train_y, test_y = train_test_split(Summary,Score,test_size=0.25)\n",
        "\n",
        "# print an example of the dataset after the labeling process\n",
        "print(messages.head(2))\n",
        "tmp = messages\n",
        "tmp['Score'] = tmp['Score'].map(partition)\n",
        "print(tmp.head(2))"
      ],
      "execution_count": 9,
      "outputs": [
        {
          "output_type": "stream",
          "text": [
            "   Score                Summary\n",
            "0      5  Good Quality Dog Food\n",
            "1      1      Not as Advertised\n",
            "   Score                Summary\n",
            "0      1  Good Quality Dog Food\n",
            "1      0      Not as Advertised\n"
          ],
          "name": "stdout"
        }
      ]
    },
    {
      "cell_type": "code",
      "metadata": {
        "id": "w3qT91aYj1c5",
        "colab_type": "code",
        "outputId": "051f6101-593e-4d58-addb-b500dbb2bb45",
        "colab": {
          "base_uri": "https://localhost:8080/",
          "height": 52
        }
      },
      "source": [
        "import nltk\n",
        "nltk.download('punkt')\n",
        "from nltk.stem import PorterStemmer"
      ],
      "execution_count": 10,
      "outputs": [
        {
          "output_type": "stream",
          "text": [
            "[nltk_data] Downloading package punkt to /root/nltk_data...\n",
            "[nltk_data]   Unzipping tokenizers/punkt.zip.\n"
          ],
          "name": "stdout"
        }
      ]
    },
    {
      "cell_type": "code",
      "metadata": {
        "id": "iOSKMd1IdzE5",
        "colab_type": "code",
        "colab": {}
      },
      "source": [
        "# do not change make any changes to the code below. This part of the\n",
        "# code removes stop words and transforms all the words and letters\n",
        "# into a uniform representation. Further, it also removes punctuation\n",
        "# marks.\n",
        "stemmer = PorterStemmer()\n",
        "def stem_tokens(tokens, stemmer):\n",
        "    stemmed = []\n",
        "    for item in tokens:\n",
        "        stemmed.append(stemmer.stem(item))\n",
        "    return stemmed\n",
        "\n",
        "def tokenize(text):\n",
        "    tokens = nltk.word_tokenize(text)\n",
        "    stems = stem_tokens(tokens, stemmer)\n",
        "    return ' '.join(stems)\n",
        "\n",
        "intab = string.punctuation\n",
        "outtab = \"                                \"\n",
        "trantab = str.maketrans(intab, outtab)\n",
        "\n",
        "corpus = []\n",
        "count_train_x=0\n",
        "for text in train_X:\n",
        "    count_train_x=count_train_x+1\n",
        "    text = text.lower()\n",
        "    text = text.translate(trantab)\n",
        "    text=tokenize(text)\n",
        "    corpus.append(text)\n",
        "        \n",
        "count_test_x=0\n",
        "test_set=[]\n",
        "for text in test_X:\n",
        "    count_test_x=count_test_x+1\n",
        "    text = text.lower()\n",
        "    text = text.translate(trantab)\n",
        "    text=tokenize(text)\n",
        "    test_set.append(text)\n",
        "\n",
        "count_vect = CountVectorizer()\n",
        "X_train_counts = count_vect.fit_transform(corpus)        \n",
        "X_test_counts = count_vect.transform(test_set)"
      ],
      "execution_count": 0,
      "outputs": []
    },
    {
      "cell_type": "markdown",
      "metadata": {
        "id": "TnAtA_ILdzF6",
        "colab_type": "text"
      },
      "source": [
        "### 4. Print before and after using data pre-processing for five data points - [5 pts]\n",
        "For example, following are some outputs that we were able to generate\n",
        "\n",
        " ID | Before preprocessing | After preprocessing \n",
        " -|-|-\n",
        " 45612 | Good Strong Flavor|good strong flavor \n",
        " 180139 | GREAT SIDE DISH | great side dish \n",
        " 541273 | Its agar | it agar \n",
        " 102774 | Great product! | great product\n",
        " 447382 | Love them | love them "
      ]
    },
    {
      "cell_type": "code",
      "metadata": {
        "id": "KBmnfyymdzF9",
        "colab_type": "code",
        "colab": {
          "base_uri": "https://localhost:8080/",
          "height": 193
        },
        "outputId": "cc23eec1-2e0f-428c-d954-c2f38382aaea"
      },
      "source": [
        "# Data before the processing step is stored in the variable train_X \n",
        "# and the processed data is present in corpus. Print randomly 5 \n",
        "# instances to check the success of the processing step. \n",
        "# insert your code here\n",
        "for i in range(0,5):\n",
        "  print(train_X.iloc[[i]],corpus[i]) "
      ],
      "execution_count": 13,
      "outputs": [
        {
          "output_type": "stream",
          "text": [
            "396129    great mustard\n",
            "Name: Summary, dtype: object great mustard\n",
            "543370    Not strips, they're nuggets\n",
            "Name: Summary, dtype: object not strip they re nugget\n",
            "13653    Not for the MSG-Sensitive\n",
            "Name: Summary, dtype: object not for the msg sensit\n",
            "15518    THE BEST healthy dog treat!\n",
            "Name: Summary, dtype: object the best healthi dog treat\n",
            "510659    My Dog Loves Tripe Treats\n",
            "Name: Summary, dtype: object my dog love tripe treat\n"
          ],
          "name": "stdout"
        }
      ]
    },
    {
      "cell_type": "markdown",
      "metadata": {
        "id": "86CdRFeWdzGC",
        "colab_type": "text"
      },
      "source": [
        "### 5. Build a basic decision tree choosing appropriate min_samples_leaf parameter so that tree fits in output cell using Graphviz package [5 pts]\n",
        "Use the decision tree classifier from the sklearn library to learn a decision tree from the training dataet. For now, we would like to only visualize the tree to ensure that we are calling the correct function. Set the min_samples_leaf parameter to a high value (>15000) for learning the tree. This tree will not be accurate, but will be big enough for us to visualize it. Identify the functions in the tree package that will help to visualize the tree and plot it. Below is a sample tree generated when mi_samples_leaf was set to 20000\n",
        "![tree.png](attachment:tree.png)"
      ]
    },
    {
      "cell_type": "code",
      "metadata": {
        "id": "ZG6n4JpQdzGE",
        "colab_type": "code",
        "outputId": "a6ce46d1-ae4f-47d5-8ec5-f0b4b648a4ac",
        "colab": {
          "base_uri": "https://localhost:8080/",
          "height": 122
        }
      },
      "source": [
        "from sklearn import tree\n",
        "clf = tree.DecisionTreeClassifier(min_samples_leaf=16000)\n",
        "clf.fit(X_train_counts, train_y)\n",
        "# insert your code here"
      ],
      "execution_count": 0,
      "outputs": [
        {
          "output_type": "execute_result",
          "data": {
            "text/plain": [
              "DecisionTreeClassifier(ccp_alpha=0.0, class_weight=None, criterion='gini',\n",
              "                       max_depth=None, max_features=None, max_leaf_nodes=None,\n",
              "                       min_impurity_decrease=0.0, min_impurity_split=None,\n",
              "                       min_samples_leaf=16000, min_samples_split=2,\n",
              "                       min_weight_fraction_leaf=0.0, presort='deprecated',\n",
              "                       random_state=None, splitter='best')"
            ]
          },
          "metadata": {
            "tags": []
          },
          "execution_count": 13
        }
      ]
    },
    {
      "cell_type": "code",
      "metadata": {
        "id": "H8yxs9YbI0ge",
        "colab_type": "code",
        "outputId": "d2697a8c-2374-4ce0-e460-82591b0bbfdc",
        "colab": {
          "base_uri": "https://localhost:8080/",
          "height": 52
        }
      },
      "source": [
        "X_train_counts"
      ],
      "execution_count": 0,
      "outputs": [
        {
          "output_type": "execute_result",
          "data": {
            "text/plain": [
              "<426340x22740 sparse matrix of type '<class 'numpy.int64'>'\n",
              "\twith 1665907 stored elements in Compressed Sparse Row format>"
            ]
          },
          "metadata": {
            "tags": []
          },
          "execution_count": 14
        }
      ]
    },
    {
      "cell_type": "code",
      "metadata": {
        "id": "Y3xTkyP8dzGH",
        "colab_type": "code",
        "outputId": "95250cc7-c0bb-4ae9-cbd3-08b3adabfd0d",
        "colab": {
          "base_uri": "https://localhost:8080/",
          "height": 512
        }
      },
      "source": [
        "tree.plot_tree(clf)"
      ],
      "execution_count": 0,
      "outputs": [
        {
          "output_type": "execute_result",
          "data": {
            "text/plain": [
              "[Text(267.84000000000003, 203.85, 'X[13746] <= 0.5\\ngini = 0.342\\nsamples = 426340\\nvalue = [93481, 332859]'),\n",
              " Text(234.36, 176.67000000000002, 'X[8813] <= 0.5\\ngini = 0.308\\nsamples = 401779\\nvalue = [76279, 325500]'),\n",
              " Text(200.88000000000002, 149.49, 'X[2230] <= 0.5\\ngini = 0.333\\nsamples = 351310\\nvalue = [74088, 277222]'),\n",
              " Text(167.40000000000003, 122.31, 'X[11799] <= 0.5\\ngini = 0.349\\nsamples = 327513\\nvalue = [73815, 253698]'),\n",
              " Text(133.92000000000002, 95.13, 'X[8598] <= 0.5\\ngini = 0.367\\nsamples = 301070\\nvalue = [72836, 228234]'),\n",
              " Text(100.44000000000001, 67.94999999999999, 'X[1144] <= 0.5\\ngini = 0.381\\nsamples = 268487\\nvalue = [68867, 199620]'),\n",
              " Text(66.96000000000001, 40.77000000000001, 'X[19976] <= 0.5\\ngini = 0.384\\nsamples = 251494\\nvalue = [65247, 186247]'),\n",
              " Text(33.480000000000004, 13.590000000000003, 'gini = 0.383\\nsamples = 234421\\nvalue = [60392, 174029]'),\n",
              " Text(100.44000000000001, 13.590000000000003, 'gini = 0.407\\nsamples = 17073\\nvalue = [4855, 12218]'),\n",
              " Text(133.92000000000002, 40.77000000000001, 'gini = 0.335\\nsamples = 16993\\nvalue = [3620, 13373]'),\n",
              " Text(167.40000000000003, 67.94999999999999, 'gini = 0.214\\nsamples = 32583\\nvalue = [3969, 28614]'),\n",
              " Text(200.88000000000002, 95.13, 'gini = 0.071\\nsamples = 26443\\nvalue = [979, 25464]'),\n",
              " Text(234.36, 122.31, 'gini = 0.023\\nsamples = 23797\\nvalue = [273, 23524]'),\n",
              " Text(267.84000000000003, 149.49, 'gini = 0.083\\nsamples = 50469\\nvalue = [2191, 48278]'),\n",
              " Text(301.32000000000005, 176.67000000000002, 'gini = 0.42\\nsamples = 24561\\nvalue = [17202, 7359]')]"
            ]
          },
          "metadata": {
            "tags": []
          },
          "execution_count": 15
        },
        {
          "output_type": "display_data",
          "data": {
            "image/png": "[encoded data removed]",
            "text/plain": [
              "<Figure size 432x288 with 1 Axes>"
            ]
          },
          "metadata": {
            "tags": []
          }
        }
      ]
    },
    {
      "cell_type": "code",
      "metadata": {
        "id": "vct2H1FFQEzg",
        "colab_type": "code",
        "outputId": "934614d8-5e4a-4141-a7e9-28c89fe3f5ff",
        "colab": {
          "base_uri": "https://localhost:8080/",
          "height": 1000
        }
      },
      "source": [
        "import graphviz\n",
        "dot_data = tree.export_graphviz(clf, out_file=None) \n",
        "graph = graphviz.Source(dot_data) \n",
        "graph.render(\"iris\") \n",
        "graph"
      ],
      "execution_count": 0,
      "outputs": [
        {
          "output_type": "execute_result",
          "data": {
            "text/plain": [
              "<graphviz.files.Source at 0x7f83288b3358>"
            ],
            "image/svg+xml": "<?xml version=\"1.0\" encoding=\"UTF-8\" standalone=\"no\"?>\n<!DOCTYPE svg PUBLIC \"-//W3C//DTD SVG 1.1//EN\"\n \"http://www.w3.org/Graphics/SVG/1.1/DTD/svg11.dtd\">\n<!-- Generated by graphviz version 2.40.1 (20161225.0304)\n -->\n<!-- Title: Tree Pages: 1 -->\n<svg width=\"848pt\" height=\"789pt\"\n viewBox=\"0.00 0.00 847.50 789.00\" xmlns=\"http://www.w3.org/2000/svg\" xmlns:xlink=\"http://www.w3.org/1999/xlink\">\n<g id=\"graph0\" class=\"graph\" transform=\"scale(1 1) rotate(0) translate(4 785)\">\n<title>Tree</title>\n<polygon fill=\"#ffffff\" stroke=\"transparent\" points=\"-4,4 -4,-785 843.5,-785 843.5,4 -4,4\"/>\n<!-- 0 -->\n<g id=\"node1\" class=\"node\">\n<title>0</title>\n<polygon fill=\"none\" stroke=\"#000000\" points=\"760,-781 598,-781 598,-713 760,-713 760,-781\"/>\n<text text-anchor=\"middle\" x=\"679\" y=\"-765.8\" font-family=\"Times,serif\" font-size=\"14.00\" fill=\"#000000\">X[13746] &lt;= 0.5</text>\n<text text-anchor=\"middle\" x=\"679\" y=\"-750.8\" font-family=\"Times,serif\" font-size=\"14.00\" fill=\"#000000\">gini = 0.342</text>\n<text text-anchor=\"middle\" x=\"679\" y=\"-735.8\" font-family=\"Times,serif\" font-size=\"14.00\" fill=\"#000000\">samples = 426340</text>\n<text text-anchor=\"middle\" x=\"679\" y=\"-720.8\" font-family=\"Times,serif\" font-size=\"14.00\" fill=\"#000000\">value = [93481, 332859]</text>\n</g>\n<!-- 1 -->\n<g id=\"node2\" class=\"node\">\n<title>1</title>\n<polygon fill=\"none\" stroke=\"#000000\" points=\"674,-677 512,-677 512,-609 674,-609 674,-677\"/>\n<text text-anchor=\"middle\" x=\"593\" y=\"-661.8\" font-family=\"Times,serif\" font-size=\"14.00\" fill=\"#000000\">X[8813] &lt;= 0.5</text>\n<text text-anchor=\"middle\" x=\"593\" y=\"-646.8\" font-family=\"Times,serif\" font-size=\"14.00\" fill=\"#000000\">gini = 0.308</text>\n<text text-anchor=\"middle\" x=\"593\" y=\"-631.8\" font-family=\"Times,serif\" font-size=\"14.00\" fill=\"#000000\">samples = 401779</text>\n<text text-anchor=\"middle\" x=\"593\" y=\"-616.8\" font-family=\"Times,serif\" font-size=\"14.00\" fill=\"#000000\">value = [76279, 325500]</text>\n</g>\n<!-- 0&#45;&gt;1 -->\n<g id=\"edge1\" class=\"edge\">\n<title>0&#45;&gt;1</title>\n<path fill=\"none\" stroke=\"#000000\" d=\"M650.8404,-712.9465C643.4158,-703.968 635.3185,-694.1758 627.5972,-684.8385\"/>\n<polygon fill=\"#000000\" stroke=\"#000000\" points=\"630.2928,-682.606 621.2229,-677.13 624.8983,-687.0669 630.2928,-682.606\"/>\n<text text-anchor=\"middle\" x=\"618.865\" y=\"-698.3186\" font-family=\"Times,serif\" font-size=\"14.00\" fill=\"#000000\">True</text>\n</g>\n<!-- 14 -->\n<g id=\"node15\" class=\"node\">\n<title>14</title>\n<polygon fill=\"none\" stroke=\"#000000\" points=\"839.5,-669.5 692.5,-669.5 692.5,-616.5 839.5,-616.5 839.5,-669.5\"/>\n<text text-anchor=\"middle\" x=\"766\" y=\"-654.3\" font-family=\"Times,serif\" font-size=\"14.00\" fill=\"#000000\">gini = 0.42</text>\n<text text-anchor=\"middle\" x=\"766\" y=\"-639.3\" font-family=\"Times,serif\" font-size=\"14.00\" fill=\"#000000\">samples = 24561</text>\n<text text-anchor=\"middle\" x=\"766\" y=\"-624.3\" font-family=\"Times,serif\" font-size=\"14.00\" fill=\"#000000\">value = [17202, 7359]</text>\n</g>\n<!-- 0&#45;&gt;14 -->\n<g id=\"edge14\" class=\"edge\">\n<title>0&#45;&gt;14</title>\n<path fill=\"none\" stroke=\"#000000\" d=\"M707.4871,-712.9465C717.07,-701.491 727.761,-688.711 737.3559,-677.2412\"/>\n<polygon fill=\"#000000\" stroke=\"#000000\" points=\"740.0646,-679.458 743.7965,-669.5422 734.6955,-674.9666 740.0646,-679.458\"/>\n<text text-anchor=\"middle\" x=\"746.0128\" y=\"-690.7437\" font-family=\"Times,serif\" font-size=\"14.00\" fill=\"#000000\">False</text>\n</g>\n<!-- 2 -->\n<g id=\"node3\" class=\"node\">\n<title>2</title>\n<polygon fill=\"none\" stroke=\"#000000\" points=\"588,-573 426,-573 426,-505 588,-505 588,-573\"/>\n<text text-anchor=\"middle\" x=\"507\" y=\"-557.8\" font-family=\"Times,serif\" font-size=\"14.00\" fill=\"#000000\">X[2230] &lt;= 0.5</text>\n<text text-anchor=\"middle\" x=\"507\" y=\"-542.8\" font-family=\"Times,serif\" font-size=\"14.00\" fill=\"#000000\">gini = 0.333</text>\n<text text-anchor=\"middle\" x=\"507\" y=\"-527.8\" font-family=\"Times,serif\" font-size=\"14.00\" fill=\"#000000\">samples = 351310</text>\n<text text-anchor=\"middle\" x=\"507\" y=\"-512.8\" font-family=\"Times,serif\" font-size=\"14.00\" fill=\"#000000\">value = [74088, 277222]</text>\n</g>\n<!-- 1&#45;&gt;2 -->\n<g id=\"edge2\" class=\"edge\">\n<title>1&#45;&gt;2</title>\n<path fill=\"none\" stroke=\"#000000\" d=\"M564.8404,-608.9465C557.4158,-599.968 549.3185,-590.1758 541.5972,-580.8385\"/>\n<polygon fill=\"#000000\" stroke=\"#000000\" points=\"544.2928,-578.606 535.2229,-573.13 538.8983,-583.0669 544.2928,-578.606\"/>\n</g>\n<!-- 13 -->\n<g id=\"node14\" class=\"node\">\n<title>13</title>\n<polygon fill=\"none\" stroke=\"#000000\" points=\"753.5,-565.5 606.5,-565.5 606.5,-512.5 753.5,-512.5 753.5,-565.5\"/>\n<text text-anchor=\"middle\" x=\"680\" y=\"-550.3\" font-family=\"Times,serif\" font-size=\"14.00\" fill=\"#000000\">gini = 0.083</text>\n<text text-anchor=\"middle\" x=\"680\" y=\"-535.3\" font-family=\"Times,serif\" font-size=\"14.00\" fill=\"#000000\">samples = 50469</text>\n<text text-anchor=\"middle\" x=\"680\" y=\"-520.3\" font-family=\"Times,serif\" font-size=\"14.00\" fill=\"#000000\">value = [2191, 48278]</text>\n</g>\n<!-- 1&#45;&gt;13 -->\n<g id=\"edge13\" class=\"edge\">\n<title>1&#45;&gt;13</title>\n<path fill=\"none\" stroke=\"#000000\" d=\"M621.4871,-608.9465C631.07,-597.491 641.761,-584.711 651.3559,-573.2412\"/>\n<polygon fill=\"#000000\" stroke=\"#000000\" points=\"654.0646,-575.458 657.7965,-565.5422 648.6955,-570.9666 654.0646,-575.458\"/>\n</g>\n<!-- 3 -->\n<g id=\"node4\" class=\"node\">\n<title>3</title>\n<polygon fill=\"none\" stroke=\"#000000\" points=\"504,-469 342,-469 342,-401 504,-401 504,-469\"/>\n<text text-anchor=\"middle\" x=\"423\" y=\"-453.8\" font-family=\"Times,serif\" font-size=\"14.00\" fill=\"#000000\">X[11799] &lt;= 0.5</text>\n<text text-anchor=\"middle\" x=\"423\" y=\"-438.8\" font-family=\"Times,serif\" font-size=\"14.00\" fill=\"#000000\">gini = 0.349</text>\n<text text-anchor=\"middle\" x=\"423\" y=\"-423.8\" font-family=\"Times,serif\" font-size=\"14.00\" fill=\"#000000\">samples = 327513</text>\n<text text-anchor=\"middle\" x=\"423\" y=\"-408.8\" font-family=\"Times,serif\" font-size=\"14.00\" fill=\"#000000\">value = [73815, 253698]</text>\n</g>\n<!-- 2&#45;&gt;3 -->\n<g id=\"edge3\" class=\"edge\">\n<title>2&#45;&gt;3</title>\n<path fill=\"none\" stroke=\"#000000\" d=\"M479.4953,-504.9465C472.3159,-496.0578 464.4924,-486.3716 457.019,-477.1188\"/>\n<polygon fill=\"#000000\" stroke=\"#000000\" points=\"459.5727,-474.7102 450.5665,-469.13 454.1271,-479.1086 459.5727,-474.7102\"/>\n</g>\n<!-- 12 -->\n<g id=\"node13\" class=\"node\">\n<title>12</title>\n<polygon fill=\"none\" stroke=\"#000000\" points=\"662,-461.5 522,-461.5 522,-408.5 662,-408.5 662,-461.5\"/>\n<text text-anchor=\"middle\" x=\"592\" y=\"-446.3\" font-family=\"Times,serif\" font-size=\"14.00\" fill=\"#000000\">gini = 0.023</text>\n<text text-anchor=\"middle\" x=\"592\" y=\"-431.3\" font-family=\"Times,serif\" font-size=\"14.00\" fill=\"#000000\">samples = 23797</text>\n<text text-anchor=\"middle\" x=\"592\" y=\"-416.3\" font-family=\"Times,serif\" font-size=\"14.00\" fill=\"#000000\">value = [273, 23524]</text>\n</g>\n<!-- 2&#45;&gt;12 -->\n<g id=\"edge12\" class=\"edge\">\n<title>2&#45;&gt;12</title>\n<path fill=\"none\" stroke=\"#000000\" d=\"M534.8322,-504.9465C544.1048,-493.6012 554.4392,-480.9567 563.7437,-469.5724\"/>\n<polygon fill=\"#000000\" stroke=\"#000000\" points=\"566.6885,-471.5 570.3069,-461.5422 561.2685,-467.0701 566.6885,-471.5\"/>\n</g>\n<!-- 4 -->\n<g id=\"node5\" class=\"node\">\n<title>4</title>\n<polygon fill=\"none\" stroke=\"#000000\" points=\"420,-365 258,-365 258,-297 420,-297 420,-365\"/>\n<text text-anchor=\"middle\" x=\"339\" y=\"-349.8\" font-family=\"Times,serif\" font-size=\"14.00\" fill=\"#000000\">X[8598] &lt;= 0.5</text>\n<text text-anchor=\"middle\" x=\"339\" y=\"-334.8\" font-family=\"Times,serif\" font-size=\"14.00\" fill=\"#000000\">gini = 0.367</text>\n<text text-anchor=\"middle\" x=\"339\" y=\"-319.8\" font-family=\"Times,serif\" font-size=\"14.00\" fill=\"#000000\">samples = 301070</text>\n<text text-anchor=\"middle\" x=\"339\" y=\"-304.8\" font-family=\"Times,serif\" font-size=\"14.00\" fill=\"#000000\">value = [72836, 228234]</text>\n</g>\n<!-- 3&#45;&gt;4 -->\n<g id=\"edge4\" class=\"edge\">\n<title>3&#45;&gt;4</title>\n<path fill=\"none\" stroke=\"#000000\" d=\"M395.4953,-400.9465C388.3159,-392.0578 380.4924,-382.3716 373.019,-373.1188\"/>\n<polygon fill=\"#000000\" stroke=\"#000000\" points=\"375.5727,-370.7102 366.5665,-365.13 370.1271,-375.1086 375.5727,-370.7102\"/>\n</g>\n<!-- 11 -->\n<g id=\"node12\" class=\"node\">\n<title>11</title>\n<polygon fill=\"none\" stroke=\"#000000\" points=\"578,-357.5 438,-357.5 438,-304.5 578,-304.5 578,-357.5\"/>\n<text text-anchor=\"middle\" x=\"508\" y=\"-342.3\" font-family=\"Times,serif\" font-size=\"14.00\" fill=\"#000000\">gini = 0.071</text>\n<text text-anchor=\"middle\" x=\"508\" y=\"-327.3\" font-family=\"Times,serif\" font-size=\"14.00\" fill=\"#000000\">samples = 26443</text>\n<text text-anchor=\"middle\" x=\"508\" y=\"-312.3\" font-family=\"Times,serif\" font-size=\"14.00\" fill=\"#000000\">value = [979, 25464]</text>\n</g>\n<!-- 3&#45;&gt;11 -->\n<g id=\"edge11\" class=\"edge\">\n<title>3&#45;&gt;11</title>\n<path fill=\"none\" stroke=\"#000000\" d=\"M450.8322,-400.9465C460.1048,-389.6012 470.4392,-376.9567 479.7437,-365.5724\"/>\n<polygon fill=\"#000000\" stroke=\"#000000\" points=\"482.6885,-367.5 486.3069,-357.5422 477.2685,-363.0701 482.6885,-367.5\"/>\n</g>\n<!-- 5 -->\n<g id=\"node6\" class=\"node\">\n<title>5</title>\n<polygon fill=\"none\" stroke=\"#000000\" points=\"334,-261 172,-261 172,-193 334,-193 334,-261\"/>\n<text text-anchor=\"middle\" x=\"253\" y=\"-245.8\" font-family=\"Times,serif\" font-size=\"14.00\" fill=\"#000000\">X[1144] &lt;= 0.5</text>\n<text text-anchor=\"middle\" x=\"253\" y=\"-230.8\" font-family=\"Times,serif\" font-size=\"14.00\" fill=\"#000000\">gini = 0.381</text>\n<text text-anchor=\"middle\" x=\"253\" y=\"-215.8\" font-family=\"Times,serif\" font-size=\"14.00\" fill=\"#000000\">samples = 268487</text>\n<text text-anchor=\"middle\" x=\"253\" y=\"-200.8\" font-family=\"Times,serif\" font-size=\"14.00\" fill=\"#000000\">value = [68867, 199620]</text>\n</g>\n<!-- 4&#45;&gt;5 -->\n<g id=\"edge5\" class=\"edge\">\n<title>4&#45;&gt;5</title>\n<path fill=\"none\" stroke=\"#000000\" d=\"M310.8404,-296.9465C303.4158,-287.968 295.3185,-278.1758 287.5972,-268.8385\"/>\n<polygon fill=\"#000000\" stroke=\"#000000\" points=\"290.2928,-266.606 281.2229,-261.13 284.8983,-271.0669 290.2928,-266.606\"/>\n</g>\n<!-- 10 -->\n<g id=\"node11\" class=\"node\">\n<title>10</title>\n<polygon fill=\"none\" stroke=\"#000000\" points=\"499.5,-253.5 352.5,-253.5 352.5,-200.5 499.5,-200.5 499.5,-253.5\"/>\n<text text-anchor=\"middle\" x=\"426\" y=\"-238.3\" font-family=\"Times,serif\" font-size=\"14.00\" fill=\"#000000\">gini = 0.214</text>\n<text text-anchor=\"middle\" x=\"426\" y=\"-223.3\" font-family=\"Times,serif\" font-size=\"14.00\" fill=\"#000000\">samples = 32583</text>\n<text text-anchor=\"middle\" x=\"426\" y=\"-208.3\" font-family=\"Times,serif\" font-size=\"14.00\" fill=\"#000000\">value = [3969, 28614]</text>\n</g>\n<!-- 4&#45;&gt;10 -->\n<g id=\"edge10\" class=\"edge\">\n<title>4&#45;&gt;10</title>\n<path fill=\"none\" stroke=\"#000000\" d=\"M367.4871,-296.9465C377.07,-285.491 387.761,-272.711 397.3559,-261.2412\"/>\n<polygon fill=\"#000000\" stroke=\"#000000\" points=\"400.0646,-263.458 403.7965,-253.5422 394.6955,-258.9666 400.0646,-263.458\"/>\n</g>\n<!-- 6 -->\n<g id=\"node7\" class=\"node\">\n<title>6</title>\n<polygon fill=\"none\" stroke=\"#000000\" points=\"248,-157 86,-157 86,-89 248,-89 248,-157\"/>\n<text text-anchor=\"middle\" x=\"167\" y=\"-141.8\" font-family=\"Times,serif\" font-size=\"14.00\" fill=\"#000000\">X[19976] &lt;= 0.5</text>\n<text text-anchor=\"middle\" x=\"167\" y=\"-126.8\" font-family=\"Times,serif\" font-size=\"14.00\" fill=\"#000000\">gini = 0.384</text>\n<text text-anchor=\"middle\" x=\"167\" y=\"-111.8\" font-family=\"Times,serif\" font-size=\"14.00\" fill=\"#000000\">samples = 251494</text>\n<text text-anchor=\"middle\" x=\"167\" y=\"-96.8\" font-family=\"Times,serif\" font-size=\"14.00\" fill=\"#000000\">value = [65247, 186247]</text>\n</g>\n<!-- 5&#45;&gt;6 -->\n<g id=\"edge6\" class=\"edge\">\n<title>5&#45;&gt;6</title>\n<path fill=\"none\" stroke=\"#000000\" d=\"M224.8404,-192.9465C217.4158,-183.968 209.3185,-174.1758 201.5972,-164.8385\"/>\n<polygon fill=\"#000000\" stroke=\"#000000\" points=\"204.2928,-162.606 195.2229,-157.13 198.8983,-167.0669 204.2928,-162.606\"/>\n</g>\n<!-- 9 -->\n<g id=\"node10\" class=\"node\">\n<title>9</title>\n<polygon fill=\"none\" stroke=\"#000000\" points=\"413.5,-149.5 266.5,-149.5 266.5,-96.5 413.5,-96.5 413.5,-149.5\"/>\n<text text-anchor=\"middle\" x=\"340\" y=\"-134.3\" font-family=\"Times,serif\" font-size=\"14.00\" fill=\"#000000\">gini = 0.335</text>\n<text text-anchor=\"middle\" x=\"340\" y=\"-119.3\" font-family=\"Times,serif\" font-size=\"14.00\" fill=\"#000000\">samples = 16993</text>\n<text text-anchor=\"middle\" x=\"340\" y=\"-104.3\" font-family=\"Times,serif\" font-size=\"14.00\" fill=\"#000000\">value = [3620, 13373]</text>\n</g>\n<!-- 5&#45;&gt;9 -->\n<g id=\"edge9\" class=\"edge\">\n<title>5&#45;&gt;9</title>\n<path fill=\"none\" stroke=\"#000000\" d=\"M281.4871,-192.9465C291.07,-181.491 301.761,-168.711 311.3559,-157.2412\"/>\n<polygon fill=\"#000000\" stroke=\"#000000\" points=\"314.0646,-159.458 317.7965,-149.5422 308.6955,-154.9666 314.0646,-159.458\"/>\n</g>\n<!-- 7 -->\n<g id=\"node8\" class=\"node\">\n<title>7</title>\n<polygon fill=\"none\" stroke=\"#000000\" points=\"162,-53 0,-53 0,0 162,0 162,-53\"/>\n<text text-anchor=\"middle\" x=\"81\" y=\"-37.8\" font-family=\"Times,serif\" font-size=\"14.00\" fill=\"#000000\">gini = 0.383</text>\n<text text-anchor=\"middle\" x=\"81\" y=\"-22.8\" font-family=\"Times,serif\" font-size=\"14.00\" fill=\"#000000\">samples = 234421</text>\n<text text-anchor=\"middle\" x=\"81\" y=\"-7.8\" font-family=\"Times,serif\" font-size=\"14.00\" fill=\"#000000\">value = [60392, 174029]</text>\n</g>\n<!-- 6&#45;&gt;7 -->\n<g id=\"edge7\" class=\"edge\">\n<title>6&#45;&gt;7</title>\n<path fill=\"none\" stroke=\"#000000\" d=\"M136.6796,-88.9777C128.519,-79.8207 119.6892,-69.9129 111.5179,-60.744\"/>\n<polygon fill=\"#000000\" stroke=\"#000000\" points=\"114.1042,-58.3854 104.838,-53.2485 108.8783,-63.0427 114.1042,-58.3854\"/>\n</g>\n<!-- 8 -->\n<g id=\"node9\" class=\"node\">\n<title>8</title>\n<polygon fill=\"none\" stroke=\"#000000\" points=\"327.5,-53 180.5,-53 180.5,0 327.5,0 327.5,-53\"/>\n<text text-anchor=\"middle\" x=\"254\" y=\"-37.8\" font-family=\"Times,serif\" font-size=\"14.00\" fill=\"#000000\">gini = 0.407</text>\n<text text-anchor=\"middle\" x=\"254\" y=\"-22.8\" font-family=\"Times,serif\" font-size=\"14.00\" fill=\"#000000\">samples = 17073</text>\n<text text-anchor=\"middle\" x=\"254\" y=\"-7.8\" font-family=\"Times,serif\" font-size=\"14.00\" fill=\"#000000\">value = [4855, 12218]</text>\n</g>\n<!-- 6&#45;&gt;8 -->\n<g id=\"edge8\" class=\"edge\">\n<title>6&#45;&gt;8</title>\n<path fill=\"none\" stroke=\"#000000\" d=\"M197.6729,-88.9777C205.9285,-79.8207 214.8609,-69.9129 223.1272,-60.744\"/>\n<polygon fill=\"#000000\" stroke=\"#000000\" points=\"225.7883,-63.0193 229.8848,-53.2485 220.5892,-58.3321 225.7883,-63.0193\"/>\n</g>\n</g>\n</svg>\n"
          },
          "metadata": {
            "tags": []
          },
          "execution_count": 16
        }
      ]
    },
    {
      "cell_type": "markdown",
      "metadata": {
        "id": "22jwWSCQdzGM",
        "colab_type": "text"
      },
      "source": [
        "### 6. Experiments with different tree parameters\n",
        "#### a. minimum number of samples in a node.  [5 pts]\n",
        "By now we should have all the code in place for learning accurate decision trees. As we discussed in the class, one method to prevent overfitting a decision tree is to put constraints on the number of samples assigned to a split node during training. We had used this parameter to learn extremely short decision trees in the previous step. Let us now vary this parameter and investigate the impact on the train and test accuracy of the model. \n",
        "The first part of the code should loop around different values for min_samples_split and save the resulting train and test accuracy. In the second part, plot a graph with x-axis being the number of samples in the node and accuracy being the y axis. Plot both the train and test accuracies in the same figure. Write a generic function for the plotting as we will use it later for other visualizations."
      ]
    },
    {
      "cell_type": "code",
      "metadata": {
        "id": "xK18EW7mdzGO",
        "colab_type": "code",
        "outputId": "8e63c91f-f73d-4339-b24f-daa3ef3c4e0c",
        "colab": {
          "base_uri": "https://localhost:8080/",
          "height": 295
        }
      },
      "source": [
        "test_accuracy_list=[]\n",
        "train_accuracy_list=[]\n",
        "min_samples_split = [10,50,100,200]\n",
        "for i in min_samples_split:\n",
        "  clf=tree.DecisionTreeClassifier(min_samples_leaf=i)\n",
        "  clf=clf.fit(X_train_counts,train_y)\n",
        "  train_accuracy_list.append(clf.score(X_train_counts,train_y))\n",
        "  test_accuracy_list.append(clf.score(X_test_counts,test_y))\n",
        "  \n",
        "  \n",
        "\n",
        "    \n",
        "def plot_accuracy(test_accuracy_list,train_accuracy_list, xlabel, ylabel, title,temp):\n",
        "  plt.xlabel(xlabel)\n",
        "  plt.ylabel(ylabel)\n",
        "  plt.title(title)\n",
        "  plt.plot(temp,train_accuracy_list,label=\"line-1 train\")\n",
        "  plt.plot(temp,test_accuracy_list,label=\"line-2 test\")\n",
        "  plt.legend()\n",
        "  plt.show()\n",
        "\n",
        "    # insert your code here\n",
        "xlabel=\"minsamples\"\n",
        "ylabel=\"accuracy\"\n",
        "title=\"graph\"\n",
        "plot_accuracy(test_accuracy_list,train_accuracy_list, xlabel, ylabel, title,min_samples_split)"
      ],
      "execution_count": 16,
      "outputs": [
        {
          "output_type": "display_data",
          "data": {
            "image/png": "[encoded data removed]",
            "text/plain": [
              "<Figure size 432x288 with 1 Axes>"
            ]
          },
          "metadata": {
            "tags": []
          }
        }
      ]
    },
    {
      "cell_type": "code",
      "metadata": {
        "id": "FC2XoX8THUrQ",
        "colab_type": "code",
        "outputId": "6346feec-ae60-4073-8685-6e04d3eecef3",
        "colab": {
          "base_uri": "https://localhost:8080/",
          "height": 87
        }
      },
      "source": [
        "train_accuracy_list"
      ],
      "execution_count": 0,
      "outputs": [
        {
          "output_type": "execute_result",
          "data": {
            "text/plain": [
              "[0.9080499132148051,\n",
              " 0.8803865459492424,\n",
              " 0.8690036121405451,\n",
              " 0.8601233757095276]"
            ]
          },
          "metadata": {
            "tags": []
          },
          "execution_count": 18
        }
      ]
    },
    {
      "cell_type": "markdown",
      "metadata": {
        "id": "42l6bY3OdzGT",
        "colab_type": "text"
      },
      "source": [
        "#### b. maximum number of leaf nodes in the tree [5 pts]\n",
        "The tree learner has a parameter max_leaf_nodes. Discuss the role of this parameter during the tree learning. Investigate the impact of this parameter on the train and test accuracy."
      ]
    },
    {
      "cell_type": "code",
      "metadata": {
        "id": "UzOVQ8iTdzGV",
        "colab_type": "code",
        "outputId": "e1fce1eb-d973-4452-da77-7795a0cb8ef6",
        "colab": {
          "base_uri": "https://localhost:8080/",
          "height": 295
        }
      },
      "source": [
        "test_accuracy_list=[]\n",
        "train_accuracy_list=[]\n",
        "max_leaf_nodes=1000\n",
        "step_size_2=50\n",
        "max_leaf_list=[]\n",
        "for i in range(2, max_leaf_nodes,step_size_2):\n",
        "  clf=tree.DecisionTreeClassifier(max_leaf_nodes=i)\n",
        "  clf=clf.fit(X_train_counts,train_y)\n",
        "  train_accuracy_list.append(clf.score(X_train_counts,train_y))\n",
        "  test_accuracy_list.append(clf.score(X_test_counts,test_y))\n",
        "  max_leaf_list.append(i)\n",
        "\n",
        "    # insert your code here\n",
        "xlabel=\"minsamples\"\n",
        "ylabel=\"accuracy\"\n",
        "title=\"graph\"\n",
        "plot_accuracy(test_accuracy_list, train_accuracy_list, xlabel, ylabel, title,max_leaf_list)"
      ],
      "execution_count": 0,
      "outputs": [
        {
          "output_type": "display_data",
          "data": {
            "image/png": "[encoded data removed]",
            "text/plain": [
              "<Figure size 432x288 with 1 Axes>"
            ]
          },
          "metadata": {
            "tags": []
          }
        }
      ]
    },
    {
      "cell_type": "code",
      "metadata": {
        "id": "oQ1NJ5QXCcgE",
        "colab_type": "code",
        "outputId": "33adb79d-c7c7-4308-bf7e-e3199237e1a3",
        "colab": {
          "base_uri": "https://localhost:8080/",
          "height": 369
        }
      },
      "source": [
        "test_accuracy_list"
      ],
      "execution_count": 0,
      "outputs": [
        {
          "output_type": "execute_result",
          "data": {
            "text/plain": [
              "[0.803263577128221,\n",
              " 0.8473408671911282,\n",
              " 0.8594860464134427,\n",
              " 0.865600855651097,\n",
              " 0.8698087450919684,\n",
              " 0.8737070239385282,\n",
              " 0.8755576508999817,\n",
              " 0.8777108518513306,\n",
              " 0.8804762373868866,\n",
              " 0.8820524367761093,\n",
              " 0.8837552950448232,\n",
              " 0.8849444811911564,\n",
              " 0.8859788620403338,\n",
              " 0.8873087802749905,\n",
              " 0.8882165022446769,\n",
              " 0.8889834921260397,\n",
              " 0.8894127249954262,\n",
              " 0.8900319461840495,\n",
              " 0.890827082483077,\n",
              " 0.8912422421436311]"
            ]
          },
          "metadata": {
            "tags": []
          },
          "execution_count": 22
        }
      ]
    },
    {
      "cell_type": "code",
      "metadata": {
        "id": "Hef0jxq5ktYB",
        "colab_type": "code",
        "outputId": "99da6b57-1b2b-462c-c01c-a088a647d012",
        "colab": {
          "base_uri": "https://localhost:8080/",
          "height": 369
        }
      },
      "source": [
        "test_accuracy_list"
      ],
      "execution_count": 0,
      "outputs": [
        {
          "output_type": "execute_result",
          "data": {
            "text/plain": [
              "[0.803263577128221,\n",
              " 0.8473408671911282,\n",
              " 0.8594860464134427,\n",
              " 0.865600855651097,\n",
              " 0.8698087450919684,\n",
              " 0.8737070239385282,\n",
              " 0.8755576508999817,\n",
              " 0.8777108518513306,\n",
              " 0.8804762373868866,\n",
              " 0.8820524367761093,\n",
              " 0.8837552950448232,\n",
              " 0.8849444811911564,\n",
              " 0.8859788620403338,\n",
              " 0.8873087802749905,\n",
              " 0.8882165022446769,\n",
              " 0.8889834921260397,\n",
              " 0.8894127249954262,\n",
              " 0.8900319461840495,\n",
              " 0.890827082483077,\n",
              " 0.8912422421436311]"
            ]
          },
          "metadata": {
            "tags": []
          },
          "execution_count": 23
        }
      ]
    },
    {
      "cell_type": "markdown",
      "metadata": {
        "id": "Djy5uSf_dzGY",
        "colab_type": "text"
      },
      "source": [
        "#### c. splitting criteria [5 pts]\n",
        "Identify the default splitting critera and experiment with other criterion implemented in the tree package. Report the accuracy on the test dataset as well as other parameters chracterizing the learned decision tree. "
      ]
    },
    {
      "cell_type": "code",
      "metadata": {
        "id": "LWvXcEk0dzGZ",
        "colab_type": "code",
        "colab": {}
      },
      "source": [
        "# insert your code here\n",
        "test_accuracy_list=[]\n",
        "train_accuracy_list=[]\n",
        "test_accuracy_list_entropy=[]\n",
        "train_accuracy_list_entropy=[]\n",
        "clf=tree.DecisionTreeClassifier(criterion=\"gini\")\n",
        "clf=clf.fit(X_train_counts,train_y)\n",
        "train_accuracy_list.append(clf.score(X_train_counts,train_y))\n",
        "test_accuracy_list.append(clf.score(X_test_counts,test_y))\n",
        "\n",
        "ent=tree.DecisionTreeClassifier(criterion=\"entropy\")\n",
        "ent=ent.fit(X_train_counts,train_y)\n",
        "train_accuracy_list_entropy.append(ent.score(X_train_counts,train_y))\n",
        "test_accuracy_list_entropy.append(ent.score(X_test_counts,test_y))\n",
        "\n",
        "\n"
      ],
      "execution_count": 0,
      "outputs": []
    },
    {
      "cell_type": "code",
      "metadata": {
        "id": "2BonnE8FOiti",
        "colab_type": "code",
        "outputId": "5953c919-5dff-46c4-d552-8b31b86ece25",
        "colab": {
          "base_uri": "https://localhost:8080/",
          "height": 34
        }
      },
      "source": [
        "test_accuracy_list"
      ],
      "execution_count": 0,
      "outputs": [
        {
          "output_type": "execute_result",
          "data": {
            "text/plain": [
              "[0.9160321995018084]"
            ]
          },
          "metadata": {
            "tags": []
          },
          "execution_count": 25
        }
      ]
    },
    {
      "cell_type": "code",
      "metadata": {
        "id": "b3l79qqXOmj8",
        "colab_type": "code",
        "outputId": "cd020be0-200c-4e4a-dd45-79bd32670c60",
        "colab": {
          "base_uri": "https://localhost:8080/",
          "height": 34
        }
      },
      "source": [
        "test_accuracy_list_entropy"
      ],
      "execution_count": 0,
      "outputs": [
        {
          "output_type": "execute_result",
          "data": {
            "text/plain": [
              "[0.9177843140014355]"
            ]
          },
          "metadata": {
            "tags": []
          },
          "execution_count": 26
        }
      ]
    },
    {
      "cell_type": "markdown",
      "metadata": {
        "id": "vhN5QBRPdzGc",
        "colab_type": "text"
      },
      "source": [
        "#### d. depth of the decision tree [5 pts]\n",
        "Investigate the impact of depth of the decision tree on the test accuracy"
      ]
    },
    {
      "cell_type": "code",
      "metadata": {
        "id": "OTm0rCqQdzGd",
        "colab_type": "code",
        "outputId": "d4bc1851-de1b-4d9b-e99d-2ef219693f5d",
        "colab": {
          "base_uri": "https://localhost:8080/",
          "height": 295
        }
      },
      "source": [
        "test_accuracy_list=[]\n",
        "train_accuracy_list=[]\n",
        "maximum_depth=1000\n",
        "step_size=50\n",
        "max_depth1=[]\n",
        "for i in range(1, maximum_depth,step_size):\n",
        "  clf=tree.DecisionTreeClassifier(max_depth=i)\n",
        "  clf=clf.fit(X_train_counts,train_y)\n",
        "  train_accuracy_list.append(clf.score(X_train_counts,train_y))\n",
        "  test_accuracy_list.append(clf.score(X_test_counts,test_y))\n",
        "  max_depth1.append(i)\n",
        "\n",
        "\n",
        "plot_accuracy(test_accuracy_list, train_accuracy_list, xlabel, ylabel, title,max_depth1)"
      ],
      "execution_count": 0,
      "outputs": [
        {
          "output_type": "display_data",
          "data": {
            "image/png": "[encoded data removed]",
            "text/plain": [
              "<Figure size 432x288 with 1 Axes>"
            ]
          },
          "metadata": {
            "tags": []
          }
        }
      ]
    },
    {
      "cell_type": "markdown",
      "metadata": {
        "id": "p0EjNH1GdzGi",
        "colab_type": "text"
      },
      "source": [
        "### 7. Random forest\n",
        "Now, let us explore an ensemble of decision trees - random forest. Fortunately, sklearn has an ensemble library containing the random forest classifier. Let us learn a random forest using both instance and feature bagging independently.\n",
        "#### a. briefly describe the input parameters to the random forest classifier [5 pts]\n",
        "insert your description here\n",
        "#### b. instance bagging [10 pts]\n",
        "As discussed in the class, instances are sampled with replacement to create multiple synthetic training sets. Decision tree is learned for every training set. An ensemble strategy (majority voting) is applied on the output of all the trees for a test instance. Let us vary the number of instances in each bag to learn the random forest and check if there is impact on the performance of the ensemble. "
      ]
    },
    {
      "cell_type": "code",
      "metadata": {
        "id": "vTyFhVVHdzGk",
        "colab_type": "code",
        "outputId": "3a6ebb2b-b764-40f0-c057-01532a10777d",
        "colab": {
          "base_uri": "https://localhost:8080/",
          "height": 929
        }
      },
      "source": [
        "import sklearn\n",
        "from sklearn.ensemble import RandomForestClassifier\n",
        "import random\n",
        "test_accuracy_list=[]\n",
        "train_accuracy_list=[]\n",
        "number_of_instances = [1000,5000,10000,20000]\n",
        "for i in number_of_instances:\n",
        "  clf=RandomForestClassifier(max_samples=i,n_jobs=-1,verbose=1)\n",
        "  clf=clf.fit(X_train_counts,train_y)\n",
        "  train_accuracy_list.append(clf.score(X_train_counts,train_y))\n",
        "  test_accuracy_list.append(clf.score(X_test_counts,test_y))\n",
        "    # insert your code here\n",
        "\n",
        "plot_accuracy(test_accuracy_list, train_accuracy_list, xlabel, ylabel, title,number_of_instances)"
      ],
      "execution_count": 0,
      "outputs": [
        {
          "output_type": "stream",
          "text": [
            "[Parallel(n_jobs=-1)]: Using backend ThreadingBackend with 2 concurrent workers.\n",
            "[Parallel(n_jobs=-1)]: Done  46 tasks      | elapsed:    4.3s\n",
            "[Parallel(n_jobs=-1)]: Done 100 out of 100 | elapsed:    9.1s finished\n",
            "[Parallel(n_jobs=2)]: Using backend ThreadingBackend with 2 concurrent workers.\n",
            "[Parallel(n_jobs=2)]: Done  46 tasks      | elapsed:    7.8s\n",
            "[Parallel(n_jobs=2)]: Done 100 out of 100 | elapsed:   17.0s finished\n",
            "[Parallel(n_jobs=2)]: Using backend ThreadingBackend with 2 concurrent workers.\n",
            "[Parallel(n_jobs=2)]: Done  46 tasks      | elapsed:    2.5s\n",
            "[Parallel(n_jobs=2)]: Done 100 out of 100 | elapsed:    5.6s finished\n",
            "[Parallel(n_jobs=-1)]: Using backend ThreadingBackend with 2 concurrent workers.\n",
            "[Parallel(n_jobs=-1)]: Done  46 tasks      | elapsed:   14.5s\n",
            "[Parallel(n_jobs=-1)]: Done 100 out of 100 | elapsed:   31.5s finished\n",
            "[Parallel(n_jobs=2)]: Using backend ThreadingBackend with 2 concurrent workers.\n",
            "[Parallel(n_jobs=2)]: Done  46 tasks      | elapsed:   12.0s\n",
            "[Parallel(n_jobs=2)]: Done 100 out of 100 | elapsed:   26.2s finished\n",
            "[Parallel(n_jobs=2)]: Using backend ThreadingBackend with 2 concurrent workers.\n",
            "[Parallel(n_jobs=2)]: Done  46 tasks      | elapsed:    4.0s\n",
            "[Parallel(n_jobs=2)]: Done 100 out of 100 | elapsed:    8.8s finished\n",
            "[Parallel(n_jobs=-1)]: Using backend ThreadingBackend with 2 concurrent workers.\n",
            "[Parallel(n_jobs=-1)]: Done  46 tasks      | elapsed:   27.6s\n",
            "[Parallel(n_jobs=-1)]: Done 100 out of 100 | elapsed:   58.6s finished\n",
            "[Parallel(n_jobs=2)]: Using backend ThreadingBackend with 2 concurrent workers.\n",
            "[Parallel(n_jobs=2)]: Done  46 tasks      | elapsed:   13.8s\n",
            "[Parallel(n_jobs=2)]: Done 100 out of 100 | elapsed:   29.8s finished\n",
            "[Parallel(n_jobs=2)]: Using backend ThreadingBackend with 2 concurrent workers.\n",
            "[Parallel(n_jobs=2)]: Done  46 tasks      | elapsed:    4.6s\n",
            "[Parallel(n_jobs=2)]: Done 100 out of 100 | elapsed:   10.0s finished\n",
            "[Parallel(n_jobs=-1)]: Using backend ThreadingBackend with 2 concurrent workers.\n",
            "[Parallel(n_jobs=-1)]: Done  46 tasks      | elapsed:   53.3s\n",
            "[Parallel(n_jobs=-1)]: Done 100 out of 100 | elapsed:  1.9min finished\n",
            "[Parallel(n_jobs=2)]: Using backend ThreadingBackend with 2 concurrent workers.\n",
            "[Parallel(n_jobs=2)]: Done  46 tasks      | elapsed:   15.6s\n",
            "[Parallel(n_jobs=2)]: Done 100 out of 100 | elapsed:   34.0s finished\n",
            "[Parallel(n_jobs=2)]: Using backend ThreadingBackend with 2 concurrent workers.\n",
            "[Parallel(n_jobs=2)]: Done  46 tasks      | elapsed:    5.3s\n",
            "[Parallel(n_jobs=2)]: Done 100 out of 100 | elapsed:   11.6s finished\n"
          ],
          "name": "stderr"
        },
        {
          "output_type": "display_data",
          "data": {
            "image/png": "[encoded data removed]",
            "text/plain": [
              "<Figure size 432x288 with 1 Axes>"
            ]
          },
          "metadata": {
            "tags": []
          }
        }
      ]
    },
    {
      "cell_type": "markdown",
      "metadata": {
        "id": "YrwDdv6bdzGm",
        "colab_type": "text"
      },
      "source": [
        "#### c. feature bagging [10 pts]\n",
        "For performing feature bagging, we sample a subset of features from the initial set of features. A decision tree is learned for every training set that contains all the instances characterized by a subset of features. An ensemble strategy is applied for classifying a test instance. In this experiment we will investigate the impact of varying the number of features bagged on the test accuracy."
      ]
    },
    {
      "cell_type": "code",
      "metadata": {
        "id": "HdSxQEA8dzGn",
        "colab_type": "code",
        "outputId": "381fbe83-8ca1-4aa6-d1ea-e687ccffef18",
        "colab": {
          "base_uri": "https://localhost:8080/",
          "height": 239
        }
      },
      "source": [
        "test_accuracy_list=[]\n",
        "train_accuracy_list=[]\n",
        "number_of_features = [1000,10000,15000,20000]\n",
        "for i in number_of_features:\n",
        "  clf=RandomForestClassifier(max_features=i,n_jobs=-1,verbose=1)\n",
        "  clf=clf.fit(X_train_counts,train_y)\n",
        "  train_accuracy_list.append(clf.score(X_train_counts,train_y))\n",
        "  test_accuracy_list.append(clf.score(X_test_counts,test_y))\n",
        "    # insert your code here\n",
        "\n",
        "    "
      ],
      "execution_count": 2,
      "outputs": [
        {
          "output_type": "error",
          "ename": "NameError",
          "evalue": "ignored",
          "traceback": [
            "\u001b[0;31m---------------------------------------------------------------------------\u001b[0m",
            "\u001b[0;31mNameError\u001b[0m                                 Traceback (most recent call last)",
            "\u001b[0;32m<ipython-input-2-7366e67366d3>\u001b[0m in \u001b[0;36m<module>\u001b[0;34m()\u001b[0m\n\u001b[1;32m      3\u001b[0m \u001b[0mnumber_of_features\u001b[0m \u001b[0;34m=\u001b[0m \u001b[0;34m[\u001b[0m\u001b[0;36m1000\u001b[0m\u001b[0;34m,\u001b[0m\u001b[0;36m10000\u001b[0m\u001b[0;34m,\u001b[0m\u001b[0;36m15000\u001b[0m\u001b[0;34m,\u001b[0m\u001b[0;36m20000\u001b[0m\u001b[0;34m]\u001b[0m\u001b[0;34m\u001b[0m\u001b[0;34m\u001b[0m\u001b[0m\n\u001b[1;32m      4\u001b[0m \u001b[0;32mfor\u001b[0m \u001b[0mi\u001b[0m \u001b[0;32min\u001b[0m \u001b[0mnumber_of_features\u001b[0m\u001b[0;34m:\u001b[0m\u001b[0;34m\u001b[0m\u001b[0;34m\u001b[0m\u001b[0m\n\u001b[0;32m----> 5\u001b[0;31m   \u001b[0mclf\u001b[0m\u001b[0;34m=\u001b[0m\u001b[0mRandomForestClassifier\u001b[0m\u001b[0;34m(\u001b[0m\u001b[0mmax_features\u001b[0m\u001b[0;34m=\u001b[0m\u001b[0mi\u001b[0m\u001b[0;34m,\u001b[0m\u001b[0mn_jobs\u001b[0m\u001b[0;34m=\u001b[0m\u001b[0;34m-\u001b[0m\u001b[0;36m1\u001b[0m\u001b[0;34m,\u001b[0m\u001b[0mverbose\u001b[0m\u001b[0;34m=\u001b[0m\u001b[0;36m1\u001b[0m\u001b[0;34m)\u001b[0m\u001b[0;34m\u001b[0m\u001b[0;34m\u001b[0m\u001b[0m\n\u001b[0m\u001b[1;32m      6\u001b[0m   \u001b[0mclf\u001b[0m\u001b[0;34m=\u001b[0m\u001b[0mclf\u001b[0m\u001b[0;34m.\u001b[0m\u001b[0mfit\u001b[0m\u001b[0;34m(\u001b[0m\u001b[0mX_train_counts\u001b[0m\u001b[0;34m,\u001b[0m\u001b[0mtrain_y\u001b[0m\u001b[0;34m)\u001b[0m\u001b[0;34m\u001b[0m\u001b[0;34m\u001b[0m\u001b[0m\n\u001b[1;32m      7\u001b[0m   \u001b[0mtrain_accuracy_list\u001b[0m\u001b[0;34m.\u001b[0m\u001b[0mappend\u001b[0m\u001b[0;34m(\u001b[0m\u001b[0mclf\u001b[0m\u001b[0;34m.\u001b[0m\u001b[0mscore\u001b[0m\u001b[0;34m(\u001b[0m\u001b[0mX_train_counts\u001b[0m\u001b[0;34m,\u001b[0m\u001b[0mtrain_y\u001b[0m\u001b[0;34m)\u001b[0m\u001b[0;34m)\u001b[0m\u001b[0;34m\u001b[0m\u001b[0;34m\u001b[0m\u001b[0m\n",
            "\u001b[0;31mNameError\u001b[0m: name 'RandomForestClassifier' is not defined"
          ]
        }
      ]
    },
    {
      "cell_type": "code",
      "metadata": {
        "id": "0tR0Rt6vUsW9",
        "colab_type": "code",
        "colab": {
          "base_uri": "https://localhost:8080/",
          "height": 295
        },
        "outputId": "03a684e1-c873-4e86-c852-5b1ae6c7461d"
      },
      "source": [
        "\n",
        "\n",
        "plot_accuracy(test_accuracy_list, train_accuracy_list, xlabel, ylabel, title,number_of_features)\n"
      ],
      "execution_count": 17,
      "outputs": [
        {
          "output_type": "display_data",
          "data": {
            "image/png": "[encoded data removed]",
            "text/plain": [
              "<Figure size 432x288 with 1 Axes>"
            ]
          },
          "metadata": {
            "tags": []
          }
        }
      ]
    },
    {
      "cell_type": "markdown",
      "metadata": {
        "id": "eLKSyASOdzGr",
        "colab_type": "text"
      },
      "source": [
        "#### d. number of trees in the forest [10 pts]\n",
        "Finally let us vary the number of trees in the random forest. We will use the default random forest classifier and only vary the number of trees learned in the ensemble. Again make your observations on the test accuracy as the number of trees are varied."
      ]
    },
    {
      "cell_type": "code",
      "metadata": {
        "scrolled": true,
        "id": "gnu6fAVfdzGs",
        "colab_type": "code",
        "outputId": "238c2275-9eb9-4f5b-b6b2-420ae1a517af",
        "colab": {
          "base_uri": "https://localhost:8080/",
          "height": 929
        }
      },
      "source": [
        "test_accuracy_list=[]\n",
        "train_accuracy_list=[]\n",
        "number_of_trees = [1,2,5,10,50]\n",
        "for i in number_of_trees:\n",
        "  clf=RandomForestClassifier(n_estimators=i,n_jobs=-1,verbose=1)\n",
        "  clf=clf.fit(X_train_counts,train_y)\n",
        "  train_accuracy_list.append(clf.score(X_train_counts,train_y))\n",
        "  test_accuracy_list.append(clf.score(X_test_counts,test_y))\n",
        "    # insert your code here\n",
        "    \n",
        "plot_accuracy(test_accuracy_list ,train_accuracy_list, xlabel, ylabel, title,number_of_trees )"
      ],
      "execution_count": 0,
      "outputs": [
        {
          "output_type": "stream",
          "text": [
            "[Parallel(n_jobs=-1)]: Using backend ThreadingBackend with 2 concurrent workers.\n",
            "[Parallel(n_jobs=-1)]: Done   1 out of   1 | elapsed:   22.3s finished\n",
            "[Parallel(n_jobs=1)]: Using backend SequentialBackend with 1 concurrent workers.\n",
            "[Parallel(n_jobs=1)]: Done   1 out of   1 | elapsed:    1.0s finished\n",
            "[Parallel(n_jobs=1)]: Using backend SequentialBackend with 1 concurrent workers.\n",
            "[Parallel(n_jobs=1)]: Done   1 out of   1 | elapsed:    0.3s finished\n",
            "[Parallel(n_jobs=-1)]: Using backend ThreadingBackend with 2 concurrent workers.\n",
            "[Parallel(n_jobs=-1)]: Done   2 out of   2 | elapsed:   30.7s remaining:    0.0s\n",
            "[Parallel(n_jobs=-1)]: Done   2 out of   2 | elapsed:   30.7s finished\n",
            "[Parallel(n_jobs=2)]: Using backend ThreadingBackend with 2 concurrent workers.\n",
            "[Parallel(n_jobs=2)]: Done   2 out of   2 | elapsed:    1.3s remaining:    0.0s\n",
            "[Parallel(n_jobs=2)]: Done   2 out of   2 | elapsed:    1.3s finished\n",
            "[Parallel(n_jobs=2)]: Using backend ThreadingBackend with 2 concurrent workers.\n",
            "[Parallel(n_jobs=2)]: Done   2 out of   2 | elapsed:    0.4s remaining:    0.0s\n",
            "[Parallel(n_jobs=2)]: Done   2 out of   2 | elapsed:    0.4s finished\n",
            "[Parallel(n_jobs=-1)]: Using backend ThreadingBackend with 2 concurrent workers.\n",
            "[Parallel(n_jobs=-1)]: Done   5 out of   5 | elapsed:  1.4min finished\n",
            "[Parallel(n_jobs=2)]: Using backend ThreadingBackend with 2 concurrent workers.\n",
            "[Parallel(n_jobs=2)]: Done   5 out of   5 | elapsed:    3.3s finished\n",
            "[Parallel(n_jobs=2)]: Using backend ThreadingBackend with 2 concurrent workers.\n",
            "[Parallel(n_jobs=2)]: Done   5 out of   5 | elapsed:    1.2s finished\n",
            "[Parallel(n_jobs=-1)]: Using backend ThreadingBackend with 2 concurrent workers.\n",
            "[Parallel(n_jobs=-1)]: Done  10 out of  10 | elapsed:  2.6min finished\n",
            "[Parallel(n_jobs=2)]: Using backend ThreadingBackend with 2 concurrent workers.\n",
            "[Parallel(n_jobs=2)]: Done  10 out of  10 | elapsed:    6.1s finished\n",
            "[Parallel(n_jobs=2)]: Using backend ThreadingBackend with 2 concurrent workers.\n",
            "[Parallel(n_jobs=2)]: Done  10 out of  10 | elapsed:    2.2s finished\n",
            "[Parallel(n_jobs=-1)]: Using backend ThreadingBackend with 2 concurrent workers.\n",
            "[Parallel(n_jobs=-1)]: Done  46 tasks      | elapsed: 12.8min\n",
            "[Parallel(n_jobs=-1)]: Done  50 out of  50 | elapsed: 13.9min finished\n",
            "[Parallel(n_jobs=2)]: Using backend ThreadingBackend with 2 concurrent workers.\n",
            "[Parallel(n_jobs=2)]: Done  46 tasks      | elapsed:   28.8s\n",
            "[Parallel(n_jobs=2)]: Done  50 out of  50 | elapsed:   31.1s finished\n",
            "[Parallel(n_jobs=2)]: Using backend ThreadingBackend with 2 concurrent workers.\n",
            "[Parallel(n_jobs=2)]: Done  46 tasks      | elapsed:    9.8s\n",
            "[Parallel(n_jobs=2)]: Done  50 out of  50 | elapsed:   10.6s finished\n"
          ],
          "name": "stderr"
        },
        {
          "output_type": "display_data",
          "data": {
            "image/png": "[encoded data removed]",
            "text/plain": [
              "<Figure size 432x288 with 1 Axes>"
            ]
          },
          "metadata": {
            "tags": []
          }
        }
      ]
    }
  ]
}